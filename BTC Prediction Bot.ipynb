{
 "cells": [
  {
   "cell_type": "code",
   "execution_count": 21,
   "id": "73265dec-ba1b-4296-8301-b96a1010ddb8",
   "metadata": {},
   "outputs": [
    {
     "name": "stdout",
     "output_type": "stream",
     "text": [
      "Requirement already satisfied: pandas in c:\\users\\oskie\\anaconda3\\lib\\site-packages (2.2.2)\n",
      "Requirement already satisfied: numpy in c:\\users\\oskie\\anaconda3\\lib\\site-packages (1.26.4)\n",
      "Requirement already satisfied: matplotlib in c:\\users\\oskie\\anaconda3\\lib\\site-packages (3.9.2)\n",
      "Requirement already satisfied: tensorflow in c:\\users\\oskie\\anaconda3\\lib\\site-packages (2.18.0)\n",
      "Requirement already satisfied: yfinance in c:\\users\\oskie\\anaconda3\\lib\\site-packages (0.2.48)\n",
      "Requirement already satisfied: python-dateutil>=2.8.2 in c:\\users\\oskie\\anaconda3\\lib\\site-packages (from pandas) (2.9.0.post0)\n",
      "Requirement already satisfied: pytz>=2020.1 in c:\\users\\oskie\\anaconda3\\lib\\site-packages (from pandas) (2024.1)\n",
      "Requirement already satisfied: tzdata>=2022.7 in c:\\users\\oskie\\anaconda3\\lib\\site-packages (from pandas) (2023.3)\n",
      "Requirement already satisfied: contourpy>=1.0.1 in c:\\users\\oskie\\anaconda3\\lib\\site-packages (from matplotlib) (1.2.0)\n",
      "Requirement already satisfied: cycler>=0.10 in c:\\users\\oskie\\anaconda3\\lib\\site-packages (from matplotlib) (0.11.0)\n",
      "Requirement already satisfied: fonttools>=4.22.0 in c:\\users\\oskie\\anaconda3\\lib\\site-packages (from matplotlib) (4.51.0)\n",
      "Requirement already satisfied: kiwisolver>=1.3.1 in c:\\users\\oskie\\anaconda3\\lib\\site-packages (from matplotlib) (1.4.4)\n",
      "Requirement already satisfied: packaging>=20.0 in c:\\users\\oskie\\anaconda3\\lib\\site-packages (from matplotlib) (24.1)\n",
      "Requirement already satisfied: pillow>=8 in c:\\users\\oskie\\anaconda3\\lib\\site-packages (from matplotlib) (10.4.0)\n",
      "Requirement already satisfied: pyparsing>=2.3.1 in c:\\users\\oskie\\anaconda3\\lib\\site-packages (from matplotlib) (3.1.2)\n",
      "Requirement already satisfied: tensorflow-intel==2.18.0 in c:\\users\\oskie\\anaconda3\\lib\\site-packages (from tensorflow) (2.18.0)\n",
      "Requirement already satisfied: absl-py>=1.0.0 in c:\\users\\oskie\\anaconda3\\lib\\site-packages (from tensorflow-intel==2.18.0->tensorflow) (2.1.0)\n",
      "Requirement already satisfied: astunparse>=1.6.0 in c:\\users\\oskie\\anaconda3\\lib\\site-packages (from tensorflow-intel==2.18.0->tensorflow) (1.6.3)\n",
      "Requirement already satisfied: flatbuffers>=24.3.25 in c:\\users\\oskie\\anaconda3\\lib\\site-packages (from tensorflow-intel==2.18.0->tensorflow) (24.3.25)\n",
      "Requirement already satisfied: gast!=0.5.0,!=0.5.1,!=0.5.2,>=0.2.1 in c:\\users\\oskie\\anaconda3\\lib\\site-packages (from tensorflow-intel==2.18.0->tensorflow) (0.6.0)\n",
      "Requirement already satisfied: google-pasta>=0.1.1 in c:\\users\\oskie\\anaconda3\\lib\\site-packages (from tensorflow-intel==2.18.0->tensorflow) (0.2.0)\n",
      "Requirement already satisfied: libclang>=13.0.0 in c:\\users\\oskie\\anaconda3\\lib\\site-packages (from tensorflow-intel==2.18.0->tensorflow) (18.1.1)\n",
      "Requirement already satisfied: opt-einsum>=2.3.2 in c:\\users\\oskie\\anaconda3\\lib\\site-packages (from tensorflow-intel==2.18.0->tensorflow) (3.4.0)\n",
      "Requirement already satisfied: protobuf!=4.21.0,!=4.21.1,!=4.21.2,!=4.21.3,!=4.21.4,!=4.21.5,<6.0.0dev,>=3.20.3 in c:\\users\\oskie\\anaconda3\\lib\\site-packages (from tensorflow-intel==2.18.0->tensorflow) (4.25.3)\n",
      "Requirement already satisfied: requests<3,>=2.21.0 in c:\\users\\oskie\\anaconda3\\lib\\site-packages (from tensorflow-intel==2.18.0->tensorflow) (2.32.3)\n",
      "Requirement already satisfied: setuptools in c:\\users\\oskie\\anaconda3\\lib\\site-packages (from tensorflow-intel==2.18.0->tensorflow) (75.1.0)\n",
      "Requirement already satisfied: six>=1.12.0 in c:\\users\\oskie\\anaconda3\\lib\\site-packages (from tensorflow-intel==2.18.0->tensorflow) (1.16.0)\n",
      "Requirement already satisfied: termcolor>=1.1.0 in c:\\users\\oskie\\anaconda3\\lib\\site-packages (from tensorflow-intel==2.18.0->tensorflow) (2.5.0)\n",
      "Requirement already satisfied: typing-extensions>=3.6.6 in c:\\users\\oskie\\anaconda3\\lib\\site-packages (from tensorflow-intel==2.18.0->tensorflow) (4.11.0)\n",
      "Requirement already satisfied: wrapt>=1.11.0 in c:\\users\\oskie\\anaconda3\\lib\\site-packages (from tensorflow-intel==2.18.0->tensorflow) (1.14.1)\n",
      "Requirement already satisfied: grpcio<2.0,>=1.24.3 in c:\\users\\oskie\\anaconda3\\lib\\site-packages (from tensorflow-intel==2.18.0->tensorflow) (1.67.0)\n",
      "Requirement already satisfied: tensorboard<2.19,>=2.18 in c:\\users\\oskie\\anaconda3\\lib\\site-packages (from tensorflow-intel==2.18.0->tensorflow) (2.18.0)\n",
      "Requirement already satisfied: keras>=3.5.0 in c:\\users\\oskie\\anaconda3\\lib\\site-packages (from tensorflow-intel==2.18.0->tensorflow) (3.6.0)\n",
      "Requirement already satisfied: h5py>=3.11.0 in c:\\users\\oskie\\anaconda3\\lib\\site-packages (from tensorflow-intel==2.18.0->tensorflow) (3.11.0)\n",
      "Requirement already satisfied: ml-dtypes<0.5.0,>=0.4.0 in c:\\users\\oskie\\anaconda3\\lib\\site-packages (from tensorflow-intel==2.18.0->tensorflow) (0.4.1)\n",
      "Requirement already satisfied: multitasking>=0.0.7 in c:\\users\\oskie\\anaconda3\\lib\\site-packages (from yfinance) (0.0.11)\n",
      "Requirement already satisfied: lxml>=4.9.1 in c:\\users\\oskie\\anaconda3\\lib\\site-packages (from yfinance) (5.2.1)\n",
      "Requirement already satisfied: platformdirs>=2.0.0 in c:\\users\\oskie\\anaconda3\\lib\\site-packages (from yfinance) (3.10.0)\n",
      "Requirement already satisfied: frozendict>=2.3.4 in c:\\users\\oskie\\anaconda3\\lib\\site-packages (from yfinance) (2.4.2)\n",
      "Requirement already satisfied: peewee>=3.16.2 in c:\\users\\oskie\\anaconda3\\lib\\site-packages (from yfinance) (3.17.7)\n",
      "Requirement already satisfied: beautifulsoup4>=4.11.1 in c:\\users\\oskie\\anaconda3\\lib\\site-packages (from yfinance) (4.12.3)\n",
      "Requirement already satisfied: html5lib>=1.1 in c:\\users\\oskie\\anaconda3\\lib\\site-packages (from yfinance) (1.1)\n",
      "Requirement already satisfied: soupsieve>1.2 in c:\\users\\oskie\\anaconda3\\lib\\site-packages (from beautifulsoup4>=4.11.1->yfinance) (2.5)\n",
      "Requirement already satisfied: webencodings in c:\\users\\oskie\\anaconda3\\lib\\site-packages (from html5lib>=1.1->yfinance) (0.5.1)\n",
      "Requirement already satisfied: charset-normalizer<4,>=2 in c:\\users\\oskie\\anaconda3\\lib\\site-packages (from requests<3,>=2.21.0->tensorflow-intel==2.18.0->tensorflow) (3.3.2)\n",
      "Requirement already satisfied: idna<4,>=2.5 in c:\\users\\oskie\\anaconda3\\lib\\site-packages (from requests<3,>=2.21.0->tensorflow-intel==2.18.0->tensorflow) (3.7)\n",
      "Requirement already satisfied: urllib3<3,>=1.21.1 in c:\\users\\oskie\\anaconda3\\lib\\site-packages (from requests<3,>=2.21.0->tensorflow-intel==2.18.0->tensorflow) (2.2.3)\n",
      "Requirement already satisfied: certifi>=2017.4.17 in c:\\users\\oskie\\anaconda3\\lib\\site-packages (from requests<3,>=2.21.0->tensorflow-intel==2.18.0->tensorflow) (2024.8.30)\n",
      "Requirement already satisfied: wheel<1.0,>=0.23.0 in c:\\users\\oskie\\anaconda3\\lib\\site-packages (from astunparse>=1.6.0->tensorflow-intel==2.18.0->tensorflow) (0.44.0)\n",
      "Requirement already satisfied: rich in c:\\users\\oskie\\anaconda3\\lib\\site-packages (from keras>=3.5.0->tensorflow-intel==2.18.0->tensorflow) (13.7.1)\n",
      "Requirement already satisfied: namex in c:\\users\\oskie\\anaconda3\\lib\\site-packages (from keras>=3.5.0->tensorflow-intel==2.18.0->tensorflow) (0.0.8)\n",
      "Requirement already satisfied: optree in c:\\users\\oskie\\anaconda3\\lib\\site-packages (from keras>=3.5.0->tensorflow-intel==2.18.0->tensorflow) (0.13.0)\n",
      "Requirement already satisfied: markdown>=2.6.8 in c:\\users\\oskie\\anaconda3\\lib\\site-packages (from tensorboard<2.19,>=2.18->tensorflow-intel==2.18.0->tensorflow) (3.4.1)\n",
      "Requirement already satisfied: tensorboard-data-server<0.8.0,>=0.7.0 in c:\\users\\oskie\\anaconda3\\lib\\site-packages (from tensorboard<2.19,>=2.18->tensorflow-intel==2.18.0->tensorflow) (0.7.2)\n",
      "Requirement already satisfied: werkzeug>=1.0.1 in c:\\users\\oskie\\anaconda3\\lib\\site-packages (from tensorboard<2.19,>=2.18->tensorflow-intel==2.18.0->tensorflow) (3.0.3)\n",
      "Requirement already satisfied: MarkupSafe>=2.1.1 in c:\\users\\oskie\\anaconda3\\lib\\site-packages (from werkzeug>=1.0.1->tensorboard<2.19,>=2.18->tensorflow-intel==2.18.0->tensorflow) (2.1.3)\n",
      "Requirement already satisfied: markdown-it-py>=2.2.0 in c:\\users\\oskie\\anaconda3\\lib\\site-packages (from rich->keras>=3.5.0->tensorflow-intel==2.18.0->tensorflow) (2.2.0)\n",
      "Requirement already satisfied: pygments<3.0.0,>=2.13.0 in c:\\users\\oskie\\anaconda3\\lib\\site-packages (from rich->keras>=3.5.0->tensorflow-intel==2.18.0->tensorflow) (2.15.1)\n",
      "Requirement already satisfied: mdurl~=0.1 in c:\\users\\oskie\\anaconda3\\lib\\site-packages (from markdown-it-py>=2.2.0->rich->keras>=3.5.0->tensorflow-intel==2.18.0->tensorflow) (0.1.0)\n"
     ]
    }
   ],
   "source": [
    "!pip install pandas numpy matplotlib tensorflow yfinance"
   ]
  },
  {
   "cell_type": "code",
   "execution_count": 23,
   "id": "95cebd64-fe98-4bb4-8e5f-1ec3acf91a53",
   "metadata": {},
   "outputs": [],
   "source": [
    "# Gerekli kütüphanelerin import edilmesi\n",
    "import yfinance as yf\n",
    "import pandas as pd\n",
    "import numpy as np\n",
    "from datetime import datetime\n",
    "from sklearn.preprocessing import MinMaxScaler\n",
    "from tensorflow.keras.models import Sequential\n",
    "from tensorflow.keras.layers import LSTM, Dense, Dropout\n",
    "import matplotlib.pyplot as plt"
   ]
  },
  {
   "cell_type": "code",
   "execution_count": 25,
   "id": "10536563-3325-4dd5-986a-f0598ab4fa8c",
   "metadata": {},
   "outputs": [],
   "source": [
    "# 1. Veri Çekme Fonksiyonu\n",
    "def veri_cekme(coin='BTC-USD', baslangic='2022-01-01', bitis='2023-01-01'):\n",
    "    # Seçilen tarihler aralığında kripto para verisini çek\n",
    "    data = yf.download(coin, start=baslangic, end=bitis, interval='1d')\n",
    "    data = data[['Close']]  # Yalnızca kapanış fiyatlarını al\n",
    "    data = data.dropna()  # Eksik verileri temizle\n",
    "    return data"
   ]
  },
  {
   "cell_type": "code",
   "execution_count": 41,
   "id": "9ed89c8c-6b86-4e5f-9f4b-68969e114f47",
   "metadata": {},
   "outputs": [],
   "source": [
    "def model_egit(data, epochs=5):\n",
    "    # Veriyi ölçekleme\n",
    "    scaler = MinMaxScaler(feature_range=(0, 1))\n",
    "    scaled_data = scaler.fit_transform(data)\n",
    "    \n",
    "    # Eğitim verisi hazırlığı\n",
    "    X_train, y_train = [], []\n",
    "    for i in range(60, len(scaled_data)):\n",
    "        X_train.append(scaled_data[i-60:i, 0])\n",
    "        y_train.append(scaled_data[i, 0])\n",
    "    \n",
    "    # Eğitim verisi boyut kontrolü\n",
    "    if len(X_train) == 0:\n",
    "        raise ValueError(\"Model eğitimi için yeterli veri yok. En az 60 günlük veriye ihtiyaç var.\")\n",
    "    \n",
    "    X_train, y_train = np.array(X_train), np.array(y_train)\n",
    "    X_train = np.reshape(X_train, (X_train.shape[0], X_train.shape[1], 1))\n",
    "    \n",
    "    # Modeli oluşturma\n",
    "    model = Sequential()\n",
    "    model.add(LSTM(units=50, return_sequences=True, input_shape=(X_train.shape[1], 1)))\n",
    "    model.add(Dropout(0.2))\n",
    "    model.add(LSTM(units=50, return_sequences=True))\n",
    "    model.add(Dropout(0.2))\n",
    "    model.add(LSTM(units=50, return_sequences=False))\n",
    "    model.add(Dense(units=25))\n",
    "    model.add(Dense(units=1))\n",
    "    \n",
    "    # Modeli derleme\n",
    "    model.compile(optimizer='adam', loss='mean_squared_error')\n",
    "    model.fit(X_train, y_train, batch_size=1, epochs=epochs)\n",
    "    \n",
    "    return model, scaler\n"
   ]
  },
  {
   "cell_type": "code",
   "execution_count": 43,
   "id": "5d3c4047-4111-4433-b2f2-a9b3325e1c6a",
   "metadata": {},
   "outputs": [],
   "source": [
    "# 3. Tahmin Yapma Fonksiyonu\n",
    "def tahmin_yap(model, data, scaler, tahmin_baslangic, tahmin_bitis):\n",
    "    # Son 60 gün verisi ile tahmin yapmak için veriyi hazırlama\n",
    "    tahmin_verisi = data[-60:].values\n",
    "    tahmin_verisi = scaler.transform(tahmin_verisi)\n",
    "    \n",
    "    # Gelecek günler için tarih aralığı\n",
    "    tarih_araligi = pd.date_range(start=tahmin_baslangic, end=tahmin_bitis)\n",
    "    tahminler = []\n",
    "    \n",
    "    # Her bir gün için adım adım tahmin yapma\n",
    "    for _ in range(len(tarih_araligi)):\n",
    "        X_test = np.reshape(tahmin_verisi, (1, tahmin_verisi.shape[0], 1))\n",
    "        tahmin = model.predict(X_test)\n",
    "        tahmin_tersi = scaler.inverse_transform(tahmin)\n",
    "        tahminler.append(tahmin_tersi[0, 0])\n",
    "        \n",
    "        # Bir sonraki tahmin için veriyi güncelleme\n",
    "        yeni_veri = np.append(tahmin_verisi, tahmin)[1:]\n",
    "        tahmin_verisi = np.reshape(yeni_veri, (60, 1))\n",
    "    \n",
    "    # Tahmin verilerini DataFrame olarak döndürme\n",
    "    tahmin_df = pd.DataFrame(data=tahminler, index=tarih_araligi, columns=[\"Tahmin\"])\n",
    "    return tahmin_df"
   ]
  },
  {
   "cell_type": "code",
   "execution_count": 45,
   "id": "700ed621-ab9d-44cf-82af-a02560d94d32",
   "metadata": {},
   "outputs": [],
   "source": [
    "# 4. Grafik Gösterimi Fonksiyonu\n",
    "def grafikleri_goster(orijinal_data, tahmin_data):\n",
    "    plt.figure(figsize=(14,5))\n",
    "    plt.plot(orijinal_data, color=\"blue\", label=\"Gerçek Fiyat\")\n",
    "    plt.plot(tahmin_data, color=\"red\", label=\"Tahmin Fiyat\")\n",
    "    plt.xlabel('Tarih')\n",
    "    plt.ylabel('Fiyat')\n",
    "    plt.legend()\n",
    "    plt.show()"
   ]
  },
  {
   "cell_type": "code",
   "execution_count": 47,
   "id": "e6f38619-fba5-493c-8542-c329bcbf3394",
   "metadata": {},
   "outputs": [],
   "source": [
    "# 5. Kullanıcıdan Tarih Girişi Alma Fonksiyonu\n",
    "def tarih_girdisi_al():\n",
    "    try:\n",
    "        baslangic = input(\"Tahmin için başlangıç tarihini girin (YYYY-MM-DD): \")\n",
    "        bitis = input(\"Tahmin için bitiş tarihini girin (YYYY-MM-DD): \")\n",
    "        baslangic_dt = datetime.strptime(baslangic, '%Y-%m-%d')\n",
    "        bitis_dt = datetime.strptime(bitis, '%Y-%m-%d')\n",
    "        \n",
    "        if baslangic_dt >= bitis_dt:\n",
    "            raise ValueError(\"Başlangıç tarihi bitiş tarihinden önce olmalıdır.\")\n",
    "        \n",
    "        return baslangic, bitis\n",
    "    except ValueError as e:\n",
    "        print(f\"Hatalı tarih girişi: {e}\")\n",
    "        return tarih_girdisi_al()"
   ]
  },
  {
   "cell_type": "code",
   "execution_count": 49,
   "id": "15817b1f-b162-499b-8a69-d2622e115dad",
   "metadata": {},
   "outputs": [],
   "source": [
    "# 6. Tüm Süreci Çalıştırma\n",
    "def tahmin_botu():\n",
    "    # Kullanıcıdan tarih al\n",
    "    baslangic, bitis = tarih_girdisi_al()\n",
    "    \n",
    "    # Veri çekme\n",
    "    data = veri_cekme('BTC-USD', baslangic, bitis)\n",
    "    \n",
    "    # Model eğitimi\n",
    "    model, scaler = model_egit(data, epochs=5)\n",
    "    \n",
    "    # Tahminleme\n",
    "    tahmin_data = tahmin_yap(model, data, scaler, baslangic, bitis)\n",
    "    \n",
    "    # Grafik gösterimi\n",
    "    grafikleri_goster(data, tahmin_data)"
   ]
  },
  {
   "cell_type": "code",
   "execution_count": 55,
   "id": "846f6735-cb2e-4ce1-a886-bd15df1daaa8",
   "metadata": {},
   "outputs": [],
   "source": [
    "def gelecek_tahmin_yap(model, data, scaler, n_gun):\n",
    "    # Son 60 gün verisini kullanarak tahmin yapmak için veriyi hazırlıyoruz\n",
    "    tahmin_verisi = data[-60:].values\n",
    "    tahmin_verisi = scaler.transform(tahmin_verisi)\n",
    "    \n",
    "    # Gelecek günler için tahminleri tutmak üzere bir liste\n",
    "    tahminler = []\n",
    "    \n",
    "    # Her bir gün için tahmin yaparak adım adım ilerle\n",
    "    for _ in range(n_gun):\n",
    "        X_test = np.reshape(tahmin_verisi, (1, tahmin_verisi.shape[0], 1))\n",
    "        tahmin = model.predict(X_test)\n",
    "        tahmin_tersi = scaler.inverse_transform(tahmin)\n",
    "        tahminler.append(tahmin_tersi[0, 0])\n",
    "        \n",
    "        # Bir sonraki tahmin için veriyi güncelle\n",
    "        yeni_veri = np.append(tahmin_verisi, tahmin)[1:]\n",
    "        tahmin_verisi = np.reshape(yeni_veri, (60, 1))\n",
    "    \n",
    "    # Tahmin edilen günler için tarih aralığı\n",
    "    tarih_araligi = pd.date_range(start=data.index[-1] + pd.Timedelta(days=1), periods=n_gun)\n",
    "    tahmin_df = pd.DataFrame(data=tahminler, index=tarih_araligi, columns=[\"Tahmin\"])\n",
    "    \n",
    "    return tahmin_df\n"
   ]
  },
  {
   "cell_type": "code",
   "execution_count": 59,
   "id": "95324bf8-1406-49aa-9f38-238693a10b2f",
   "metadata": {},
   "outputs": [
    {
     "name": "stdin",
     "output_type": "stream",
     "text": [
      "Tahmin için başlangıç tarihini girin (YYYY-MM-DD):  2024-01-01\n",
      "Tahmin için bitiş tarihini girin (YYYY-MM-DD):  2024-12-01\n"
     ]
    },
    {
     "name": "stderr",
     "output_type": "stream",
     "text": [
      "[*********************100%***********************]  1 of 1 completed"
     ]
    },
    {
     "name": "stdout",
     "output_type": "stream",
     "text": [
      "Epoch 1/5\n"
     ]
    },
    {
     "name": "stderr",
     "output_type": "stream",
     "text": [
      "\n",
      "C:\\Users\\oskiE\\anaconda3\\Lib\\site-packages\\keras\\src\\layers\\rnn\\rnn.py:204: UserWarning: Do not pass an `input_shape`/`input_dim` argument to a layer. When using Sequential models, prefer using an `Input(shape)` object as the first layer in the model instead.\n",
      "  super().__init__(**kwargs)\n"
     ]
    },
    {
     "name": "stdout",
     "output_type": "stream",
     "text": [
      "\u001b[1m255/255\u001b[0m \u001b[32m━━━━━━━━━━━━━━━━━━━━\u001b[0m\u001b[37m\u001b[0m \u001b[1m6s\u001b[0m 16ms/step - loss: 0.0395\n",
      "Epoch 2/5\n",
      "\u001b[1m255/255\u001b[0m \u001b[32m━━━━━━━━━━━━━━━━━━━━\u001b[0m\u001b[37m\u001b[0m \u001b[1m4s\u001b[0m 15ms/step - loss: 0.0123\n",
      "Epoch 3/5\n",
      "\u001b[1m255/255\u001b[0m \u001b[32m━━━━━━━━━━━━━━━━━━━━\u001b[0m\u001b[37m\u001b[0m \u001b[1m4s\u001b[0m 16ms/step - loss: 0.0111\n",
      "Epoch 4/5\n",
      "\u001b[1m255/255\u001b[0m \u001b[32m━━━━━━━━━━━━━━━━━━━━\u001b[0m\u001b[37m\u001b[0m \u001b[1m4s\u001b[0m 16ms/step - loss: 0.0100\n",
      "Epoch 5/5\n",
      "\u001b[1m255/255\u001b[0m \u001b[32m━━━━━━━━━━━━━━━━━━━━\u001b[0m\u001b[37m\u001b[0m \u001b[1m4s\u001b[0m 16ms/step - loss: 0.0076\n"
     ]
    },
    {
     "name": "stdin",
     "output_type": "stream",
     "text": [
      "Kaç gün ileriye tahmin yapmak istiyorsunuz?  45\n"
     ]
    },
    {
     "name": "stdout",
     "output_type": "stream",
     "text": [
      "\u001b[1m1/1\u001b[0m \u001b[32m━━━━━━━━━━━━━━━━━━━━\u001b[0m\u001b[37m\u001b[0m \u001b[1m0s\u001b[0m 236ms/step\n",
      "\u001b[1m1/1\u001b[0m \u001b[32m━━━━━━━━━━━━━━━━━━━━\u001b[0m\u001b[37m\u001b[0m \u001b[1m0s\u001b[0m 16ms/step\n",
      "\u001b[1m1/1\u001b[0m \u001b[32m━━━━━━━━━━━━━━━━━━━━\u001b[0m\u001b[37m\u001b[0m \u001b[1m0s\u001b[0m 16ms/step\n",
      "\u001b[1m1/1\u001b[0m \u001b[32m━━━━━━━━━━━━━━━━━━━━\u001b[0m\u001b[37m\u001b[0m \u001b[1m0s\u001b[0m 17ms/step\n",
      "\u001b[1m1/1\u001b[0m \u001b[32m━━━━━━━━━━━━━━━━━━━━\u001b[0m\u001b[37m\u001b[0m \u001b[1m0s\u001b[0m 20ms/step\n",
      "\u001b[1m1/1\u001b[0m \u001b[32m━━━━━━━━━━━━━━━━━━━━\u001b[0m\u001b[37m\u001b[0m \u001b[1m0s\u001b[0m 20ms/step\n",
      "\u001b[1m1/1\u001b[0m \u001b[32m━━━━━━━━━━━━━━━━━━━━\u001b[0m\u001b[37m\u001b[0m \u001b[1m0s\u001b[0m 13ms/step\n",
      "\u001b[1m1/1\u001b[0m \u001b[32m━━━━━━━━━━━━━━━━━━━━\u001b[0m\u001b[37m\u001b[0m \u001b[1m0s\u001b[0m 17ms/step\n",
      "\u001b[1m1/1\u001b[0m \u001b[32m━━━━━━━━━━━━━━━━━━━━\u001b[0m\u001b[37m\u001b[0m \u001b[1m0s\u001b[0m 7ms/step\n",
      "\u001b[1m1/1\u001b[0m \u001b[32m━━━━━━━━━━━━━━━━━━━━\u001b[0m\u001b[37m\u001b[0m \u001b[1m0s\u001b[0m 9ms/step\n",
      "\u001b[1m1/1\u001b[0m \u001b[32m━━━━━━━━━━━━━━━━━━━━\u001b[0m\u001b[37m\u001b[0m \u001b[1m0s\u001b[0m 20ms/step\n",
      "\u001b[1m1/1\u001b[0m \u001b[32m━━━━━━━━━━━━━━━━━━━━\u001b[0m\u001b[37m\u001b[0m \u001b[1m0s\u001b[0m 16ms/step\n",
      "\u001b[1m1/1\u001b[0m \u001b[32m━━━━━━━━━━━━━━━━━━━━\u001b[0m\u001b[37m\u001b[0m \u001b[1m0s\u001b[0m 18ms/step\n",
      "\u001b[1m1/1\u001b[0m \u001b[32m━━━━━━━━━━━━━━━━━━━━\u001b[0m\u001b[37m\u001b[0m \u001b[1m0s\u001b[0m 18ms/step\n",
      "\u001b[1m1/1\u001b[0m \u001b[32m━━━━━━━━━━━━━━━━━━━━\u001b[0m\u001b[37m\u001b[0m \u001b[1m0s\u001b[0m 19ms/step\n",
      "\u001b[1m1/1\u001b[0m \u001b[32m━━━━━━━━━━━━━━━━━━━━\u001b[0m\u001b[37m\u001b[0m \u001b[1m0s\u001b[0m 20ms/step\n",
      "\u001b[1m1/1\u001b[0m \u001b[32m━━━━━━━━━━━━━━━━━━━━\u001b[0m\u001b[37m\u001b[0m \u001b[1m0s\u001b[0m 20ms/step\n",
      "\u001b[1m1/1\u001b[0m \u001b[32m━━━━━━━━━━━━━━━━━━━━\u001b[0m\u001b[37m\u001b[0m \u001b[1m0s\u001b[0m 20ms/step\n",
      "\u001b[1m1/1\u001b[0m \u001b[32m━━━━━━━━━━━━━━━━━━━━\u001b[0m\u001b[37m\u001b[0m \u001b[1m0s\u001b[0m 19ms/step\n",
      "\u001b[1m1/1\u001b[0m \u001b[32m━━━━━━━━━━━━━━━━━━━━\u001b[0m\u001b[37m\u001b[0m \u001b[1m0s\u001b[0m 21ms/step\n",
      "\u001b[1m1/1\u001b[0m \u001b[32m━━━━━━━━━━━━━━━━━━━━\u001b[0m\u001b[37m\u001b[0m \u001b[1m0s\u001b[0m 21ms/step\n",
      "\u001b[1m1/1\u001b[0m \u001b[32m━━━━━━━━━━━━━━━━━━━━\u001b[0m\u001b[37m\u001b[0m \u001b[1m0s\u001b[0m 25ms/step\n",
      "\u001b[1m1/1\u001b[0m \u001b[32m━━━━━━━━━━━━━━━━━━━━\u001b[0m\u001b[37m\u001b[0m \u001b[1m0s\u001b[0m 21ms/step\n",
      "\u001b[1m1/1\u001b[0m \u001b[32m━━━━━━━━━━━━━━━━━━━━\u001b[0m\u001b[37m\u001b[0m \u001b[1m0s\u001b[0m 17ms/step\n",
      "\u001b[1m1/1\u001b[0m \u001b[32m━━━━━━━━━━━━━━━━━━━━\u001b[0m\u001b[37m\u001b[0m \u001b[1m0s\u001b[0m 19ms/step\n",
      "\u001b[1m1/1\u001b[0m \u001b[32m━━━━━━━━━━━━━━━━━━━━\u001b[0m\u001b[37m\u001b[0m \u001b[1m0s\u001b[0m 19ms/step\n",
      "\u001b[1m1/1\u001b[0m \u001b[32m━━━━━━━━━━━━━━━━━━━━\u001b[0m\u001b[37m\u001b[0m \u001b[1m0s\u001b[0m 19ms/step\n",
      "\u001b[1m1/1\u001b[0m \u001b[32m━━━━━━━━━━━━━━━━━━━━\u001b[0m\u001b[37m\u001b[0m \u001b[1m0s\u001b[0m 18ms/step\n",
      "\u001b[1m1/1\u001b[0m \u001b[32m━━━━━━━━━━━━━━━━━━━━\u001b[0m\u001b[37m\u001b[0m \u001b[1m0s\u001b[0m 24ms/step\n",
      "\u001b[1m1/1\u001b[0m \u001b[32m━━━━━━━━━━━━━━━━━━━━\u001b[0m\u001b[37m\u001b[0m \u001b[1m0s\u001b[0m 23ms/step\n",
      "\u001b[1m1/1\u001b[0m \u001b[32m━━━━━━━━━━━━━━━━━━━━\u001b[0m\u001b[37m\u001b[0m \u001b[1m0s\u001b[0m 23ms/step\n",
      "\u001b[1m1/1\u001b[0m \u001b[32m━━━━━━━━━━━━━━━━━━━━\u001b[0m\u001b[37m\u001b[0m \u001b[1m0s\u001b[0m 22ms/step\n",
      "\u001b[1m1/1\u001b[0m \u001b[32m━━━━━━━━━━━━━━━━━━━━\u001b[0m\u001b[37m\u001b[0m \u001b[1m0s\u001b[0m 17ms/step\n",
      "\u001b[1m1/1\u001b[0m \u001b[32m━━━━━━━━━━━━━━━━━━━━\u001b[0m\u001b[37m\u001b[0m \u001b[1m0s\u001b[0m 32ms/step\n",
      "\u001b[1m1/1\u001b[0m \u001b[32m━━━━━━━━━━━━━━━━━━━━\u001b[0m\u001b[37m\u001b[0m \u001b[1m0s\u001b[0m 22ms/step\n",
      "\u001b[1m1/1\u001b[0m \u001b[32m━━━━━━━━━━━━━━━━━━━━\u001b[0m\u001b[37m\u001b[0m \u001b[1m0s\u001b[0m 29ms/step\n",
      "\u001b[1m1/1\u001b[0m \u001b[32m━━━━━━━━━━━━━━━━━━━━\u001b[0m\u001b[37m\u001b[0m \u001b[1m0s\u001b[0m 27ms/step\n",
      "\u001b[1m1/1\u001b[0m \u001b[32m━━━━━━━━━━━━━━━━━━━━\u001b[0m\u001b[37m\u001b[0m \u001b[1m0s\u001b[0m 22ms/step\n",
      "\u001b[1m1/1\u001b[0m \u001b[32m━━━━━━━━━━━━━━━━━━━━\u001b[0m\u001b[37m\u001b[0m \u001b[1m0s\u001b[0m 20ms/step\n",
      "\u001b[1m1/1\u001b[0m \u001b[32m━━━━━━━━━━━━━━━━━━━━\u001b[0m\u001b[37m\u001b[0m \u001b[1m0s\u001b[0m 19ms/step\n",
      "\u001b[1m1/1\u001b[0m \u001b[32m━━━━━━━━━━━━━━━━━━━━\u001b[0m\u001b[37m\u001b[0m \u001b[1m0s\u001b[0m 19ms/step\n",
      "\u001b[1m1/1\u001b[0m \u001b[32m━━━━━━━━━━━━━━━━━━━━\u001b[0m\u001b[37m\u001b[0m \u001b[1m0s\u001b[0m 24ms/step\n",
      "\u001b[1m1/1\u001b[0m \u001b[32m━━━━━━━━━━━━━━━━━━━━\u001b[0m\u001b[37m\u001b[0m \u001b[1m0s\u001b[0m 22ms/step\n",
      "\u001b[1m1/1\u001b[0m \u001b[32m━━━━━━━━━━━━━━━━━━━━\u001b[0m\u001b[37m\u001b[0m \u001b[1m0s\u001b[0m 26ms/step\n",
      "\u001b[1m1/1\u001b[0m \u001b[32m━━━━━━━━━━━━━━━━━━━━\u001b[0m\u001b[37m\u001b[0m \u001b[1m0s\u001b[0m 21ms/step\n"
     ]
    },
    {
     "data": {
      "image/png": "[encoded data removed]",
      "text/plain": [
       "<Figure size 1400x500 with 1 Axes>"
      ]
     },
     "metadata": {},
     "output_type": "display_data"
    }
   ],
   "source": [
    "# Yukarıda tanımlanan diğer fonksiyonlar...\n",
    "\n",
    "# Gelecek günler için tahmin fonksiyonu\n",
    "def gelecek_tahmin_yap(model, data, scaler, n_gun):\n",
    "    tahmin_verisi = data[-60:].values\n",
    "    tahmin_verisi = scaler.transform(tahmin_verisi)\n",
    "    tahminler = []\n",
    "    for _ in range(n_gun):\n",
    "        X_test = np.reshape(tahmin_verisi, (1, tahmin_verisi.shape[0], 1))\n",
    "        tahmin = model.predict(X_test)\n",
    "        tahmin_tersi = scaler.inverse_transform(tahmin)\n",
    "        tahminler.append(tahmin_tersi[0, 0])\n",
    "        yeni_veri = np.append(tahmin_verisi, tahmin)[1:]\n",
    "        tahmin_verisi = np.reshape(yeni_veri, (60, 1))\n",
    "    tarih_araligi = pd.date_range(start=data.index[-1] + pd.Timedelta(days=1), periods=n_gun)\n",
    "    tahmin_df = pd.DataFrame(data=tahminler, index=tarih_araligi, columns=[\"Tahmin\"])\n",
    "    return tahmin_df\n",
    "\n",
    "# Tahmin botu\n",
    "def tahmin_botu():\n",
    "    baslangic, bitis = tarih_girdisi_al()\n",
    "    data = veri_cekme('BTC-USD', baslangic, bitis)\n",
    "    model, scaler = model_egit(data, epochs=5)\n",
    "    n_gun = int(input(\"Kaç gün ileriye tahmin yapmak istiyorsunuz? \"))\n",
    "    tahmin_data = gelecek_tahmin_yap(model, data, scaler, n_gun)\n",
    "    grafikleri_goster(data, tahmin_data)\n",
    "\n",
    "# Tahmin botunu başlat\n",
    "tahmin_botu()\n"
   ]
  },
  {
   "cell_type": "code",
   "execution_count": null,
   "id": "1e315b59-49ec-4d3f-b197-537118f96b82",
   "metadata": {},
   "outputs": [],
   "source": []
  }
 ],
 "metadata": {
  "kernelspec": {
   "display_name": "Python 3 (ipykernel)",
   "language": "python",
   "name": "python3"
  },
  "language_info": {
   "codemirror_mode": {
    "name": "ipython",
    "version": 3
   },
   "file_extension": ".py",
   "mimetype": "text/x-python",
   "name": "python",
   "nbconvert_exporter": "python",
   "pygments_lexer": "ipython3",
   "version": "3.12.7"
  }
 },
 "nbformat": 4,
 "nbformat_minor": 5
}
